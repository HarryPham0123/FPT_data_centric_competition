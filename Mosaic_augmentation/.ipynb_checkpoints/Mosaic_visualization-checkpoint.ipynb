{
 "cells": [
  {
   "cell_type": "markdown",
   "metadata": {
    "id": "rSc1ifRxMa8w"
   },
   "source": [
    "# Introduction\n",
    "This notebook is to visualize the already created mosaic augmented images saved in the folder"
   ]
  },
  {
   "cell_type": "code",
   "execution_count": 1,
   "metadata": {
    "colab": {
     "base_uri": "https://localhost:8080/"
    },
    "executionInfo": {
     "elapsed": 4079,
     "status": "ok",
     "timestamp": 1642047457037,
     "user": {
      "displayName": "Hoang Pham Viet",
      "photoUrl": "https://lh3.googleusercontent.com/a-/AOh14GgQXuRknMb-ZNCRChVKvYhPD-B8MW4JxHigPUlsoA=s64",
      "userId": "13405977886381099576"
     },
     "user_tz": -420
    },
    "id": "v2OisFTZ_iFb",
    "outputId": "4c70172d-02a2-436d-a098-91cc2a0a9c91"
   },
   "outputs": [
    {
     "name": "stdout",
     "output_type": "stream",
     "text": [
      "Mounted at /content/gdrive\n"
     ]
    }
   ],
   "source": [
    "from google.colab import drive\n",
    "import os\n",
    "\n",
    "drive.mount('/content/gdrive', force_remount=True)\n",
    "# (WARNING!!!) DIRECT THE PATH TO \"Data-Competition\" folder in the Github\n",
    "path = '/content/gdrive/My Drive/Data-Centric_Competition/Github_save/Data-Competition'\n",
    "os.chdir(path)"
   ]
  },
  {
   "cell_type": "code",
   "execution_count": 3,
   "metadata": {
    "executionInfo": {
     "elapsed": 6429,
     "status": "ok",
     "timestamp": 1642047489572,
     "user": {
      "displayName": "Hoang Pham Viet",
      "photoUrl": "https://lh3.googleusercontent.com/a-/AOh14GgQXuRknMb-ZNCRChVKvYhPD-B8MW4JxHigPUlsoA=s64",
      "userId": "13405977886381099576"
     },
     "user_tz": -420
    },
    "id": "7cg3snNLqB0N"
   },
   "outputs": [],
   "source": [
    "%%capture\n",
    "! pip install opencv-python-headless==4.1.2.30"
   ]
  },
  {
   "cell_type": "code",
   "execution_count": 4,
   "metadata": {
    "executionInfo": {
     "elapsed": 7,
     "status": "ok",
     "timestamp": 1642047489573,
     "user": {
      "displayName": "Hoang Pham Viet",
      "photoUrl": "https://lh3.googleusercontent.com/a-/AOh14GgQXuRknMb-ZNCRChVKvYhPD-B8MW4JxHigPUlsoA=s64",
      "userId": "13405977886381099576"
     },
     "user_tz": -420
    },
    "id": "YzkB5NAq_l3_"
   },
   "outputs": [],
   "source": [
    "%matplotlib inline\n",
    "\n",
    "import glob\n",
    "import numpy as np\n",
    "import matplotlib.pyplot as plt\n",
    "import cv2"
   ]
  },
  {
   "cell_type": "code",
   "execution_count": 5,
   "metadata": {
    "executionInfo": {
     "elapsed": 3070,
     "status": "ok",
     "timestamp": 1642047492637,
     "user": {
      "displayName": "Hoang Pham Viet",
      "photoUrl": "https://lh3.googleusercontent.com/a-/AOh14GgQXuRknMb-ZNCRChVKvYhPD-B8MW4JxHigPUlsoA=s64",
      "userId": "13405977886381099576"
     },
     "user_tz": -420
    },
    "id": "x9ucEBg3Dz3Y"
   },
   "outputs": [],
   "source": [
    "%%capture\n",
    "!pip install -U albumentations"
   ]
  },
  {
   "cell_type": "code",
   "execution_count": 6,
   "metadata": {
    "executionInfo": {
     "elapsed": 3431,
     "status": "ok",
     "timestamp": 1642047496063,
     "user": {
      "displayName": "Hoang Pham Viet",
      "photoUrl": "https://lh3.googleusercontent.com/a-/AOh14GgQXuRknMb-ZNCRChVKvYhPD-B8MW4JxHigPUlsoA=s64",
      "userId": "13405977886381099576"
     },
     "user_tz": -420
    },
    "id": "erZQh1WW_zn6"
   },
   "outputs": [],
   "source": [
    "%%capture\n",
    "!pip install -r ./requirements.txt"
   ]
  },
  {
   "cell_type": "markdown",
   "metadata": {
    "id": "Xwg94fct_4FJ"
   },
   "source": [
    "# Construct mosaic .cvs file"
   ]
  },
  {
   "cell_type": "code",
   "execution_count": null,
   "metadata": {
    "id": "cxdKUfTV_-rZ"
   },
   "outputs": [],
   "source": [
    "import glob\n",
    "import pandas as pd\n",
    "import numpy as np\n",
    "\n",
    "def construct_csv_file(folder_path):\n",
    "  \"\"\"Read all txt annotation files & return a dataframe containing them\n",
    "  Input:\n",
    "    folder_path : folder's path contained txt files\n",
    "  Output:\n",
    "    Name of the output file the merged lines will be written to.\n",
    "  \"\"\"\n",
    "\n",
    "  train_csv = list()\n",
    "  # make sure there's a slash to the folder path \n",
    "  folder_path += \"\" if folder_path[-1] == \"/\" else \"/\"\n",
    "  # get all text files\n",
    "  txt_files = glob.glob(folder_path + \"*.txt\")\n",
    "\n",
    "  # Read each txt file\n",
    "  for txt_file in txt_files:\n",
    "    id = [txt_file.strip().split('/')[-1][:-4], 1280, 720]\n",
    "    # Read the content of file\n",
    "    with open(txt_file, 'rt') as fd:\n",
    "      lines = fd.readlines()\n",
    "      for line in lines:\n",
    "        box = line.strip().split(' ')\n",
    "        train_csv.append(id+box)\n",
    "  \n",
    "  return np.array(train_csv)"
   ]
  },
  {
   "cell_type": "code",
   "execution_count": null,
   "metadata": {
    "id": "qzCGzmaC__9e"
   },
   "outputs": [],
   "source": [
    "mosaic_csv = construct_csv_file('./dataset_origin/mosaic_randsafebox/mosaic/labels')"
   ]
  },
  {
   "cell_type": "code",
   "execution_count": null,
   "metadata": {
    "id": "viq_S82ZALQ0"
   },
   "outputs": [],
   "source": [
    "# \"mosaic\" folder\n",
    "mosaic_anno_csv = pd.DataFrame(mosaic_csv, columns=['image_id', 'width', 'height', 'label', 'x', 'y', 'w', 'h'])\n",
    "mosaic_anno_csv[['width', 'height', 'label', 'x', 'y', 'w', 'h']] = mosaic_anno_csv[['width', 'height', 'label', 'x', 'y', 'w', 'h']].astype(float)\n",
    "\n",
    "# mosaic_anno_csv.to_csv('./dataset_origin/mosaic_randsafebox/mosaic/mosaic_csv.csv', index=False)"
   ]
  },
  {
   "cell_type": "code",
   "execution_count": null,
   "metadata": {
    "colab": {
     "base_uri": "https://localhost:8080/",
     "height": 424
    },
    "executionInfo": {
     "elapsed": 6,
     "status": "ok",
     "timestamp": 1640597344327,
     "user": {
      "displayName": "Hoang Pham Viet",
      "photoUrl": "https://lh3.googleusercontent.com/a-/AOh14GgQXuRknMb-ZNCRChVKvYhPD-B8MW4JxHigPUlsoA=s64",
      "userId": "13405977886381099576"
     },
     "user_tz": -420
    },
    "id": "BlQVyiNK6NW8",
    "outputId": "d111b21c-bd00-40d7-dbf1-d5a04a4b735d"
   },
   "outputs": [
    {
     "data": {
      "text/html": [
       "\n",
       "  <div id=\"df-5e2568d9-926d-4b51-92a7-bd1e36e3ed89\">\n",
       "    <div class=\"colab-df-container\">\n",
       "      <div>\n",
       "<style scoped>\n",
       "    .dataframe tbody tr th:only-of-type {\n",
       "        vertical-align: middle;\n",
       "    }\n",
       "\n",
       "    .dataframe tbody tr th {\n",
       "        vertical-align: top;\n",
       "    }\n",
       "\n",
       "    .dataframe thead th {\n",
       "        text-align: right;\n",
       "    }\n",
       "</style>\n",
       "<table border=\"1\" class=\"dataframe\">\n",
       "  <thead>\n",
       "    <tr style=\"text-align: right;\">\n",
       "      <th></th>\n",
       "      <th>image_id</th>\n",
       "      <th>width</th>\n",
       "      <th>height</th>\n",
       "      <th>label</th>\n",
       "      <th>x</th>\n",
       "      <th>y</th>\n",
       "      <th>w</th>\n",
       "      <th>h</th>\n",
       "    </tr>\n",
       "  </thead>\n",
       "  <tbody>\n",
       "    <tr>\n",
       "      <th>0</th>\n",
       "      <td>img_mosaic_1</td>\n",
       "      <td>1280.0</td>\n",
       "      <td>720.0</td>\n",
       "      <td>1.0</td>\n",
       "      <td>0.108189</td>\n",
       "      <td>0.430670</td>\n",
       "      <td>0.062787</td>\n",
       "      <td>0.069404</td>\n",
       "    </tr>\n",
       "    <tr>\n",
       "      <th>1</th>\n",
       "      <td>img_mosaic_1</td>\n",
       "      <td>1280.0</td>\n",
       "      <td>720.0</td>\n",
       "      <td>0.0</td>\n",
       "      <td>0.340571</td>\n",
       "      <td>0.263594</td>\n",
       "      <td>0.024354</td>\n",
       "      <td>0.025511</td>\n",
       "    </tr>\n",
       "    <tr>\n",
       "      <th>2</th>\n",
       "      <td>img_mosaic_1</td>\n",
       "      <td>1280.0</td>\n",
       "      <td>720.0</td>\n",
       "      <td>1.0</td>\n",
       "      <td>0.570117</td>\n",
       "      <td>0.281007</td>\n",
       "      <td>0.026481</td>\n",
       "      <td>0.023395</td>\n",
       "    </tr>\n",
       "    <tr>\n",
       "      <th>3</th>\n",
       "      <td>img_mosaic_2</td>\n",
       "      <td>1280.0</td>\n",
       "      <td>720.0</td>\n",
       "      <td>1.0</td>\n",
       "      <td>0.554310</td>\n",
       "      <td>0.165524</td>\n",
       "      <td>0.071133</td>\n",
       "      <td>0.089362</td>\n",
       "    </tr>\n",
       "    <tr>\n",
       "      <th>4</th>\n",
       "      <td>img_mosaic_2</td>\n",
       "      <td>1280.0</td>\n",
       "      <td>720.0</td>\n",
       "      <td>1.0</td>\n",
       "      <td>0.830134</td>\n",
       "      <td>0.042720</td>\n",
       "      <td>0.085806</td>\n",
       "      <td>0.085440</td>\n",
       "    </tr>\n",
       "    <tr>\n",
       "      <th>...</th>\n",
       "      <td>...</td>\n",
       "      <td>...</td>\n",
       "      <td>...</td>\n",
       "      <td>...</td>\n",
       "      <td>...</td>\n",
       "      <td>...</td>\n",
       "      <td>...</td>\n",
       "      <td>...</td>\n",
       "    </tr>\n",
       "    <tr>\n",
       "      <th>948</th>\n",
       "      <td>img_mosaic_598</td>\n",
       "      <td>1280.0</td>\n",
       "      <td>720.0</td>\n",
       "      <td>1.0</td>\n",
       "      <td>0.242088</td>\n",
       "      <td>0.286569</td>\n",
       "      <td>0.100993</td>\n",
       "      <td>0.101816</td>\n",
       "    </tr>\n",
       "    <tr>\n",
       "      <th>949</th>\n",
       "      <td>img_mosaic_598</td>\n",
       "      <td>1280.0</td>\n",
       "      <td>720.0</td>\n",
       "      <td>1.0</td>\n",
       "      <td>0.618396</td>\n",
       "      <td>0.352025</td>\n",
       "      <td>0.086105</td>\n",
       "      <td>0.082076</td>\n",
       "    </tr>\n",
       "    <tr>\n",
       "      <th>950</th>\n",
       "      <td>img_mosaic_598</td>\n",
       "      <td>1280.0</td>\n",
       "      <td>720.0</td>\n",
       "      <td>1.0</td>\n",
       "      <td>0.087293</td>\n",
       "      <td>0.533158</td>\n",
       "      <td>0.060393</td>\n",
       "      <td>0.060302</td>\n",
       "    </tr>\n",
       "    <tr>\n",
       "      <th>951</th>\n",
       "      <td>img_mosaic_600</td>\n",
       "      <td>1280.0</td>\n",
       "      <td>720.0</td>\n",
       "      <td>2.0</td>\n",
       "      <td>0.224139</td>\n",
       "      <td>0.946596</td>\n",
       "      <td>0.063872</td>\n",
       "      <td>0.089875</td>\n",
       "    </tr>\n",
       "    <tr>\n",
       "      <th>952</th>\n",
       "      <td>img_mosaic_600</td>\n",
       "      <td>1280.0</td>\n",
       "      <td>720.0</td>\n",
       "      <td>1.0</td>\n",
       "      <td>0.979223</td>\n",
       "      <td>0.473715</td>\n",
       "      <td>0.041553</td>\n",
       "      <td>0.046050</td>\n",
       "    </tr>\n",
       "  </tbody>\n",
       "</table>\n",
       "<p>953 rows × 8 columns</p>\n",
       "</div>\n",
       "      <button class=\"colab-df-convert\" onclick=\"convertToInteractive('df-5e2568d9-926d-4b51-92a7-bd1e36e3ed89')\"\n",
       "              title=\"Convert this dataframe to an interactive table.\"\n",
       "              style=\"display:none;\">\n",
       "        \n",
       "  <svg xmlns=\"http://www.w3.org/2000/svg\" height=\"24px\"viewBox=\"0 0 24 24\"\n",
       "       width=\"24px\">\n",
       "    <path d=\"M0 0h24v24H0V0z\" fill=\"none\"/>\n",
       "    <path d=\"M18.56 5.44l.94 2.06.94-2.06 2.06-.94-2.06-.94-.94-2.06-.94 2.06-2.06.94zm-11 1L8.5 8.5l.94-2.06 2.06-.94-2.06-.94L8.5 2.5l-.94 2.06-2.06.94zm10 10l.94 2.06.94-2.06 2.06-.94-2.06-.94-.94-2.06-.94 2.06-2.06.94z\"/><path d=\"M17.41 7.96l-1.37-1.37c-.4-.4-.92-.59-1.43-.59-.52 0-1.04.2-1.43.59L10.3 9.45l-7.72 7.72c-.78.78-.78 2.05 0 2.83L4 21.41c.39.39.9.59 1.41.59.51 0 1.02-.2 1.41-.59l7.78-7.78 2.81-2.81c.8-.78.8-2.07 0-2.86zM5.41 20L4 18.59l7.72-7.72 1.47 1.35L5.41 20z\"/>\n",
       "  </svg>\n",
       "      </button>\n",
       "      \n",
       "  <style>\n",
       "    .colab-df-container {\n",
       "      display:flex;\n",
       "      flex-wrap:wrap;\n",
       "      gap: 12px;\n",
       "    }\n",
       "\n",
       "    .colab-df-convert {\n",
       "      background-color: #E8F0FE;\n",
       "      border: none;\n",
       "      border-radius: 50%;\n",
       "      cursor: pointer;\n",
       "      display: none;\n",
       "      fill: #1967D2;\n",
       "      height: 32px;\n",
       "      padding: 0 0 0 0;\n",
       "      width: 32px;\n",
       "    }\n",
       "\n",
       "    .colab-df-convert:hover {\n",
       "      background-color: #E2EBFA;\n",
       "      box-shadow: 0px 1px 2px rgba(60, 64, 67, 0.3), 0px 1px 3px 1px rgba(60, 64, 67, 0.15);\n",
       "      fill: #174EA6;\n",
       "    }\n",
       "\n",
       "    [theme=dark] .colab-df-convert {\n",
       "      background-color: #3B4455;\n",
       "      fill: #D2E3FC;\n",
       "    }\n",
       "\n",
       "    [theme=dark] .colab-df-convert:hover {\n",
       "      background-color: #434B5C;\n",
       "      box-shadow: 0px 1px 3px 1px rgba(0, 0, 0, 0.15);\n",
       "      filter: drop-shadow(0px 1px 2px rgba(0, 0, 0, 0.3));\n",
       "      fill: #FFFFFF;\n",
       "    }\n",
       "  </style>\n",
       "\n",
       "      <script>\n",
       "        const buttonEl =\n",
       "          document.querySelector('#df-5e2568d9-926d-4b51-92a7-bd1e36e3ed89 button.colab-df-convert');\n",
       "        buttonEl.style.display =\n",
       "          google.colab.kernel.accessAllowed ? 'block' : 'none';\n",
       "\n",
       "        async function convertToInteractive(key) {\n",
       "          const element = document.querySelector('#df-5e2568d9-926d-4b51-92a7-bd1e36e3ed89');\n",
       "          const dataTable =\n",
       "            await google.colab.kernel.invokeFunction('convertToInteractive',\n",
       "                                                     [key], {});\n",
       "          if (!dataTable) return;\n",
       "\n",
       "          const docLinkHtml = 'Like what you see? Visit the ' +\n",
       "            '<a target=\"_blank\" href=https://colab.research.google.com/notebooks/data_table.ipynb>data table notebook</a>'\n",
       "            + ' to learn more about interactive tables.';\n",
       "          element.innerHTML = '';\n",
       "          dataTable['output_type'] = 'display_data';\n",
       "          await google.colab.output.renderOutput(dataTable, element);\n",
       "          const docLink = document.createElement('div');\n",
       "          docLink.innerHTML = docLinkHtml;\n",
       "          element.appendChild(docLink);\n",
       "        }\n",
       "      </script>\n",
       "    </div>\n",
       "  </div>\n",
       "  "
      ],
      "text/plain": [
       "           image_id   width  height  ...         y         w         h\n",
       "0      img_mosaic_1  1280.0   720.0  ...  0.430670  0.062787  0.069404\n",
       "1      img_mosaic_1  1280.0   720.0  ...  0.263594  0.024354  0.025511\n",
       "2      img_mosaic_1  1280.0   720.0  ...  0.281007  0.026481  0.023395\n",
       "3      img_mosaic_2  1280.0   720.0  ...  0.165524  0.071133  0.089362\n",
       "4      img_mosaic_2  1280.0   720.0  ...  0.042720  0.085806  0.085440\n",
       "..              ...     ...     ...  ...       ...       ...       ...\n",
       "948  img_mosaic_598  1280.0   720.0  ...  0.286569  0.100993  0.101816\n",
       "949  img_mosaic_598  1280.0   720.0  ...  0.352025  0.086105  0.082076\n",
       "950  img_mosaic_598  1280.0   720.0  ...  0.533158  0.060393  0.060302\n",
       "951  img_mosaic_600  1280.0   720.0  ...  0.946596  0.063872  0.089875\n",
       "952  img_mosaic_600  1280.0   720.0  ...  0.473715  0.041553  0.046050\n",
       "\n",
       "[953 rows x 8 columns]"
      ]
     },
     "execution_count": 8,
     "metadata": {},
     "output_type": "execute_result"
    }
   ],
   "source": [
    "mosaic_anno_csv"
   ]
  },
  {
   "cell_type": "markdown",
   "metadata": {
    "id": "O4PSZtx2APGK"
   },
   "source": [
    "# Dataset visualization"
   ]
  },
  {
   "cell_type": "code",
   "execution_count": null,
   "metadata": {
    "id": "jckNBHtHAtY0"
   },
   "outputs": [],
   "source": [
    "import pandas as pd\n",
    "import numpy as np\n",
    "import glob\n",
    "import cv2\n",
    "import os\n",
    "import re\n",
    "\n",
    "from PIL import Image\n",
    "\n",
    "import albumentations as A\n",
    "from albumentations.pytorch.transforms import ToTensorV2, ToTensor\n",
    "\n",
    "import torch\n",
    "import torchvision\n",
    "\n",
    "from torchvision.models.detection.faster_rcnn import FastRCNNPredictor\n",
    "from torchvision.models.detection import FasterRCNN\n",
    "from torchvision.models.detection.rpn import AnchorGenerator\n",
    "\n",
    "from torch.utils.data import DataLoader, Dataset\n",
    "from torch.utils.data.sampler import SequentialSampler\n",
    "\n",
    "from matplotlib import pyplot as plt\n",
    "\n",
    "DIR_MOSAIC = './dataset_origin/mosaic_randsafebox/mosaic/images'"
   ]
  },
  {
   "cell_type": "code",
   "execution_count": null,
   "metadata": {
    "id": "LYVUWxLMA03D"
   },
   "outputs": [],
   "source": [
    "mosaic_df = pd.read_csv('./dataset_origin/mosaic_randsafebox/mosaic/mosaic_csv.csv', index_col=False)\n",
    "\n",
    "mosaic_ids = mosaic_df['image_id'].unique()\n",
    "mosaic_df = mosaic_df[mosaic_df['image_id'].isin(mosaic_ids)]"
   ]
  },
  {
   "cell_type": "code",
   "execution_count": null,
   "metadata": {
    "colab": {
     "base_uri": "https://localhost:8080/"
    },
    "executionInfo": {
     "elapsed": 326,
     "status": "ok",
     "timestamp": 1640597377061,
     "user": {
      "displayName": "Hoang Pham Viet",
      "photoUrl": "https://lh3.googleusercontent.com/a-/AOh14GgQXuRknMb-ZNCRChVKvYhPD-B8MW4JxHigPUlsoA=s64",
      "userId": "13405977886381099576"
     },
     "user_tz": -420
    },
    "id": "xVdMDtsxBt9j",
    "outputId": "73a2bca2-c8a5-470b-d2e3-4b9309215afe"
   },
   "outputs": [
    {
     "data": {
      "text/plain": [
       "367"
      ]
     },
     "execution_count": 11,
     "metadata": {},
     "output_type": "execute_result"
    }
   ],
   "source": [
    "len(mosaic_ids)"
   ]
  },
  {
   "cell_type": "markdown",
   "metadata": {
    "id": "EbhFBrZGBuzx"
   },
   "source": [
    "## Dataset construction"
   ]
  },
  {
   "cell_type": "code",
   "execution_count": null,
   "metadata": {
    "id": "iknulgcoB_Mk"
   },
   "outputs": [],
   "source": [
    "# HELPER FUNCTIONS\n",
    "def load_image(self, index):\n",
    "  # loads 1 image from dataset, returns img, original hw, resized hw\n",
    "  \"\"\"Load 1 image from dataset\n",
    "  Input:\n",
    "    index: idx to search for image's id\n",
    "  Output:\n",
    "    img, hw_original, hw_resized \"\"\"\n",
    "  # Read an image using opencv2\n",
    "  image_id = self.image_ids[index]\n",
    "  img = cv2.imread(f'{self.image_dir}/{image_id}.jpg', cv2.IMREAD_COLOR)\n",
    "    \n",
    "  assert img is not None, 'Image Not Found ' + image_id\n",
    "  h0, w0 = img.shape[:2]  # orig hw\n",
    "  return img, (h0, w0)  # img, hw_original\n",
    "\n",
    "\n",
    "def yolo_to_pascal(x, y, w, h, width, height):\n",
    "  xmax = int((x*width) + (w * width)/2.0)\n",
    "  xmin = int((x*width) - (w * width)/2.0)\n",
    "  ymax = int((y*height) + (h * height)/2.0)\n",
    "  ymin = int((y*height) - (h * height)/2.0)\n",
    "  return xmin, ymin, xmax, ymax"
   ]
  },
  {
   "cell_type": "code",
   "execution_count": null,
   "metadata": {
    "id": "SHw-pqybB_hK"
   },
   "outputs": [],
   "source": [
    "from sklearn.utils import shuffle\n",
    "import random\n",
    "\n",
    "class FPTDataset(Dataset):\n",
    "  def __init__(self, dataframe, image_dir, transforms=None):\n",
    "    super().__init__()\n",
    "\n",
    "    self.df = dataframe  # Annotation & Image's ID dataframe\n",
    "    self.transforms = transforms  # Albumentation's augmentation\n",
    "    self.image_ids = shuffle(dataframe['image_id'].unique())  # Image's ID\n",
    "    self.labels = [np.zeros((0, 4), dtype=np.float32)] * len(self.image_ids) # Image's bboxes\n",
    "    self.class_labels = [np.zeros((0, 1), dtype=np.float32)] * len(self.image_ids)  # Image's label\n",
    "    self.img_size = 960\n",
    "    self.image_dir = image_dir\n",
    "    im_w = 1280\n",
    "    im_h = 720\n",
    "\n",
    "    # Loop through each image (Each image might containt multiple bboxes & labels)\n",
    "    for i, img_id in enumerate(self.image_ids):\n",
    "      records = self.df[self.df['image_id'] == img_id]\n",
    "      boxes = records[['x', 'y', 'w', 'h']].values  # Annotations\n",
    "      class_label = records[['label']].values\n",
    "      self.labels[i] = np.array(boxes)\n",
    "      self.class_labels[i] = class_label\n",
    "\n",
    "  def __getitem__(self, index: int):\n",
    "    # DATA AUGMENTATION\n",
    "    if self.transforms is not None:\n",
    "      # Load image\n",
    "      image, (h0, w0) = load_image(self, index)\n",
    "\n",
    "      # Augmentation\n",
    "      augmented = self.transforms(image=image, bboxes=self.labels[index], class_labels=self.class_labels[index])\n",
    "      image = augmented['image']\n",
    "      image = cv2.cvtColor(image, cv2.COLOR_BGR2RGB)  # BGR to RGB\n",
    "      bboxes = augmented['bboxes']\n",
    "      labels = augmented['class_labels']\n",
    "      img_id = self.image_ids[index]\n",
    "\n",
    "      return image, bboxes, labels, img_id\n",
    "\n",
    "  def __len__(self) -> int:\n",
    "    return self.image_ids.shape[0]"
   ]
  },
  {
   "cell_type": "markdown",
   "metadata": {
    "id": "eZmwqC1eCB5U"
   },
   "source": [
    "# Visualize mosaic images"
   ]
  },
  {
   "cell_type": "code",
   "execution_count": null,
   "metadata": {
    "id": "cEx5pKW7CJDg"
   },
   "outputs": [],
   "source": [
    "def aug_resize():\n",
    "  return A.Compose([\n",
    "      A.augmentations.geometric.resize.Resize (960, 960, interpolation=1, always_apply=False, p=1)\n",
    "  ], p=1.0, bbox_params=A.BboxParams(format='yolo', label_fields=['class_labels']))"
   ]
  },
  {
   "cell_type": "code",
   "execution_count": null,
   "metadata": {
    "id": "k33l3KXuCgfP"
   },
   "outputs": [],
   "source": [
    "import random, math\n",
    "\n",
    "\n",
    "def collate_fn(batch):\n",
    "    return tuple(zip(*batch))\n",
    "\n",
    "def aug_visualize(train_val_df, train_val_dir, transform):\n",
    "  train_dataset = FPTDataset(train_val_df, train_val_dir, transform)  # 792 images\n",
    "  train_data_loader = DataLoader(\n",
    "      train_dataset,\n",
    "      batch_size=36,\n",
    "      shuffle=True,\n",
    "      num_workers=2,\n",
    "      collate_fn=collate_fn\n",
    "  )\n",
    "\n",
    "\n",
    "  fig, ax = plt.subplots(6, 6, figsize=(25, 25))\n",
    "  ax = ax.flatten()\n",
    "  images, targets, class_labels, img_ids = next(iter(train_data_loader))\n",
    "\n",
    "  for i in range(36):  # Go through each batch \n",
    "    boxes = targets[i]\n",
    "    sample = images[i]\n",
    "    height, width = sample.shape[:2]\n",
    "\n",
    "    for box in boxes:\n",
    "      # Convert from Yolo to Pascal_voc\n",
    "      box = yolo_to_pascal(box[0], box[1], box[2], box[3], width, height)\n",
    "      # Drawing bounding box\n",
    "      cv2.rectangle(sample,\n",
    "                (int(box[0]), int(box[1])),\n",
    "                (int(box[2]), int(box[3])),\n",
    "                220, 3)\n",
    "      \n",
    "    ax[i].set_title(img_ids[i])\n",
    "    ax[i].imshow(sample)  # Visualize a sample for each batch\n",
    "  plt.show()"
   ]
  },
  {
   "cell_type": "code",
   "execution_count": null,
   "metadata": {
    "colab": {
     "base_uri": "https://localhost:8080/",
     "height": 1000,
     "output_embedded_package_id": "1V8th4Jaff52U_0gjw6SjWUNM4oGZ66eF"
    },
    "executionInfo": {
     "elapsed": 35222,
     "status": "ok",
     "timestamp": 1640597422480,
     "user": {
      "displayName": "Hoang Pham Viet",
      "photoUrl": "https://lh3.googleusercontent.com/a-/AOh14GgQXuRknMb-ZNCRChVKvYhPD-B8MW4JxHigPUlsoA=s64",
      "userId": "13405977886381099576"
     },
     "user_tz": -420
    },
    "id": "GfYyQQY_Cz5l",
    "outputId": "93464a68-f508-4274-a862-d1038f598a59"
   },
   "outputs": [
    {
     "data": {
      "text/plain": [
       "Output hidden; open in https://colab.research.google.com to view."
      ]
     },
     "metadata": {},
     "output_type": "display_data"
    }
   ],
   "source": [
    "aug_visualize(mosaic_df, DIR_MOSAIC, aug_resize())"
   ]
  },
  {
   "cell_type": "markdown",
   "metadata": {},
   "source": [
    "<img src=\"../images/mosaic1.png\" width=\"2000\" height=\"2000\">"
   ]
  },
  {
   "cell_type": "markdown",
   "metadata": {
    "id": "ySwJbqZSfU8D"
   },
   "source": [
    "# Save all the mosaic augmented images (.jpg) + label (.txt) into specific folder"
   ]
  },
  {
   "cell_type": "code",
   "execution_count": null,
   "metadata": {
    "id": "CVOY_VZHC1HW"
   },
   "outputs": [],
   "source": [
    "def mosaic_filter(num_img, train_df, DIR_TRAIN):\n",
    "  \"\"\"\n",
    "    Filter only mosaic image with labels\n",
    "    Input:\n",
    "      num_img: (int) # of mosaic images wanted to create\n",
    "      train_df: (df) .csv metadata file of train dataset wanted to do augmentation\n",
    "      DIR_TRAIN: (str) path direct to train's folder\n",
    "    Output:\n",
    "      image_lst: list of mosaic images\n",
    "      target_lst: list of appropriate mosaic labels\n",
    "  \"\"\"\n",
    "  a = 0\n",
    "  image_lst = list()\n",
    "  target_lst = list()\n",
    "\n",
    "  train_dataset = FPTDatasetMosaic(train_df, DIR_TRAIN)  # 792 images\n",
    "  train_data_loader = DataLoader(\n",
    "      train_dataset,\n",
    "      batch_size=15,\n",
    "      shuffle=True,\n",
    "      num_workers=4,\n",
    "      collate_fn=collate_fn\n",
    "  )\n",
    "\n",
    "  while (a < num_img):\n",
    "    images, targets = next(iter(train_data_loader))\n",
    "    for image, target in zip(images, targets):\n",
    "      if len(target) > 1:\n",
    "        image_lst.append(image)\n",
    "        target_lst.append(target)\n",
    "        a += 1\n",
    "      else:\n",
    "        continue\n",
    "\n",
    "      if a == num_img:\n",
    "        break\n",
    "\n",
    "  return image_lst, target_lst\n",
    "\n",
    "\n",
    "# Create 200 mosaic images based \"train\" dataset folder\n",
    "images, targets = mosaic_filter(200)"
   ]
  },
  {
   "cell_type": "code",
   "execution_count": null,
   "metadata": {
    "id": "K5EL8PUOEebT"
   },
   "outputs": [],
   "source": [
    "def save_mosaic(images, targets, save_labels_path, save_images_path):\n",
    "  \"\"\"Save the mosaic images & labels into image's folder & label's folder\n",
    "  Input:\n",
    "    images: (list) of mosaic images (np) \n",
    "    targets: (list) of associated mosaic labels (np)\n",
    "    save_labels_path: (str) path folder used to save .txt labels\n",
    "    save_images_path: (str) path folder used to save .jpg images\n",
    "  \"\"\"\n",
    "  a1 = 0\n",
    "  b1 = 0\n",
    "\n",
    "  for label in targets:\n",
    "    height, width = img.shape[:2]\n",
    "    a1 += 1\n",
    "\n",
    "    txt_file = open(f'{save_labels_path}/img_mosaic_{a1}.txt', 'w')\n",
    "    # Through each bbox of an image\n",
    "    for j in range(len(label)):\n",
    "      # Normalize the box's annotation after augmentation (AS requirement from competition)\n",
    "      a,b,c,d = pascal_to_yolo(label[j][1], label[j][2], label[j][3], label[j][4], width, height)\n",
    "      label_yolo = np.array([label[j][0], a, b, c, d])\n",
    "      label_yolo = arr_to_str(label_yolo, a1)\n",
    "\n",
    "      # Save the string for txt file\n",
    "      txt_file.write(label_yolo)\n",
    "    txt_file.close()\n",
    "  print(f'FINISH SAVING MOSAIC LABELS TO FOLDER: {save_labels_path}')\n",
    "\n",
    "  # Save images into folder \"images/train\"\n",
    "  for img in images:\n",
    "    b1 += 1\n",
    "    im = Image.fromarray(img, \"RGB\")\n",
    "    im.save(f'{save_images_path}/img_mosaic_{b1}.jpg')\n",
    "  print(f'FINISH SAVING MOSAIC IMAGES TO FOLDER: {save_images_path}')"
   ]
  },
  {
   "cell_type": "code",
   "execution_count": null,
   "metadata": {
    "id": "1Jy1ZTBWFZ4P"
   },
   "outputs": [],
   "source": [
    "# Save the created mosaic images to folder\n",
    "save_mosaic(images, targets, \"./dataset_aug/labels/train\", \"./dataset_aug/images/train\")"
   ]
  }
 ],
 "metadata": {
  "colab": {
   "authorship_tag": "ABX9TyNPwN04VfhcRTfZJR85JAhJ",
   "collapsed_sections": [],
   "name": "Mosaic_visualization.ipynb",
   "provenance": []
  },
  "kernelspec": {
   "display_name": "Python 3 (ipykernel)",
   "language": "python",
   "name": "python3"
  },
  "language_info": {
   "codemirror_mode": {
    "name": "ipython",
    "version": 3
   },
   "file_extension": ".py",
   "mimetype": "text/x-python",
   "name": "python",
   "nbconvert_exporter": "python",
   "pygments_lexer": "ipython3",
   "version": "3.9.9"
  }
 },
 "nbformat": 4,
 "nbformat_minor": 1
}
